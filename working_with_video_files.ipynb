{
 "cells": [
  {
   "cell_type": "markdown",
   "metadata": {},
   "source": [
    "# Data Preprocessing"
   ]
  },
  {
   "cell_type": "code",
   "execution_count": 2,
   "metadata": {},
   "outputs": [],
   "source": [
    "import cv2\n",
    "import numpy as np\n",
    "import os\n",
    "from tqdm import tqdm\n",
    "import pickle\n",
    "import matplotlib.pyplot as plt\n",
    "from moviepy.editor import *\n"
   ]
  },
  {
   "cell_type": "markdown",
   "metadata": {},
   "source": [
    "# Extract Frames from videos and save it as JPG files"
   ]
  },
  {
   "cell_type": "code",
   "execution_count": null,
   "metadata": {},
   "outputs": [],
   "source": [
    "DATA_DIR = './Data/'\n",
    "CATEGORIES = ['Fight', 'Shoplifting', 'Normal']\n",
    "\n",
    "IMG_SIZE = 150\n",
    "train_data = []\n",
    "\n",
    "for c in CATEGORIES:\n",
    "    path = os.path.join(DATA_DIR, c)\n",
    "    class_num = CATEGORIES.index(c)\n",
    "    \n",
    "    for img in  tqdm(os.listdir(path)):\n",
    "        try:\n",
    "            img_array = cv2.imread(os.path.join(path,img), cv2.IMREAD_COLOR)\n",
    "            img_resized = cv2.resize(img_array, (IMG_SIZE, IMG_SIZE))\n",
    "            train_data.append([img_resized, class_num])\n",
    "        except Exception as e:\n",
    "            pass\n",
    "        \n",
    "print(len(train_data))"
   ]
  },
  {
   "cell_type": "code",
   "execution_count": null,
   "metadata": {},
   "outputs": [],
   "source": [
    "def extractImages(pathIn, pathOut):\n",
    "    count = 0\n",
    "    vidcap = cv2.VideoCapture(pathIn)\n",
    "    success,image = vidcap.read()\n",
    "    success = True\n",
    "    while success:\n",
    "        vidcap.set(cv2.CAP_PROP_POS_MSEC,(count*1000))    # added this line \n",
    "        success,image = vidcap.read()\n",
    "        print ('Read a new frame: ', success)\n",
    "        cv2.imwrite( pathOut + \"\\\\frame%d.jpg\" % count, image)     # save frame as JPEG file\n",
    "        count = count + 1\n",
    "        \n",
    "DATA_DIR = './Data/'\n",
    "CATEGORIES = ['Browse','Fight', 'Rest', 'Shoplifting_Acted', 'Walk']\n",
    "\n",
    "for c in CATEGORIES:\n",
    "    pathIn = os.path.join(DATA_DIR, c)\n",
    "    pathOut = os.makedirs('data_converted1')\n",
    "    class_num = CATEGORIES.index(c)\n",
    "    \n",
    "    for vid in tqdm(os.listdir(pathTn)):\n",
    "        try:\n",
    "            extractImages(os.path.join(pathIn,vid), pathOut)\n",
    "        except Exception as e:\n",
    "            pass"
   ]
  },
  {
   "cell_type": "code",
   "execution_count": null,
   "metadata": {},
   "outputs": [],
   "source": [
    "import cv2\n",
    "import numpy as np\n",
    "import os\n",
    "\n",
    "# Playing video from file:\n",
    "cap = cv2.VideoCapture('example.mp4')\n",
    "\n",
    "try:\n",
    "    if not os.path.exists('data_converted'):\n",
    "        os.makedirs('data_converted')\n",
    "except OSError:\n",
    "    print ('Error: Creating directory of data')\n",
    "\n",
    "currentFrame = 0\n",
    "while(True):\n",
    "    # Capture frame-by-frame\n",
    "    ret, frame = cap.read()\n",
    "\n",
    "    # Saves image of the current frame in jpg file\n",
    "    name = './data/frame' + str(currentFrame) + '.jpg'\n",
    "    print ('Creating...' + name)\n",
    "    cv2.imwrite(name, frame)\n",
    "\n",
    "    # To stop duplicate images\n",
    "    currentFrame += 1\n",
    "\n",
    "# When everything done, release the capture\n",
    "cap.release()\n",
    "cv2.destroyAllWindows()"
   ]
  },
  {
   "cell_type": "code",
   "execution_count": null,
   "metadata": {},
   "outputs": [],
   "source": [
    "import sys\n",
    "import argparse\n",
    "import cv2\n",
    "import os\n",
    "from tqdm import tqdm \n",
    "#print(cv2.__version__)\n",
    "\n",
    "def extractImages(pathIn, pathOut):\n",
    "    count = 0\n",
    "    vidcap = cv2.VideoCapture(pathIn)\n",
    "    success,image = vidcap.read()\n",
    "    success = True\n",
    "    while success:\n",
    "        vidcap.set(cv2.CAP_PROP_POS_MSEC,(count*1000))    # added this line \n",
    "        success,image = vidcap.read()\n",
    "        print ('Read a new frame: ', success)\n",
    "        cv2.imwrite( pathOut + \"\\\\frame%d.jpg\" % count, image)     # save frame as JPEG file\n",
    "        count = count + 1\n",
    "\n",
    "pathin = 'Data/Walk'\n",
    "pathout = 'Data/Walk_Converted'\n",
    "\"\"\"\n",
    "if __name__==\"__main__\":\n",
    "    a = argparse.ArgumentParser()\n",
    "    a.add_argument(\"--pathIn\", help=\"path to video\")\n",
    "    a.add_argument(\"--pathOut\", help=\"path to images\")\n",
    "    args = a.parse_args()\n",
    "    print(args)\n",
    "    extractImages(args.pathIn, args.pathOut)\n",
    "\"\"\"        \n"
   ]
  },
  {
   "cell_type": "markdown",
   "metadata": {},
   "source": [
    "# Convert video to numpy array"
   ]
  },
  {
   "cell_type": "code",
   "execution_count": null,
   "metadata": {},
   "outputs": [],
   "source": [
    "pathOut = \"./\"\n",
    "count = 0\n",
    "counter = 1\n",
    "listing = os.listdir(\"./Data/Browse/\")\n",
    "frames = []\n",
    "\n",
    "for vid in listing:\n",
    "    vid = \"./Data/Browse/\"+vid\n",
    "    cap = cv2.VideoCapture(vid)\n",
    "    count = 0\n",
    "    counter += 1\n",
    "    success = True\n",
    "    while success:\n",
    "        success,image = cap.read()\n",
    "#         print('read a new frame:',success)\n",
    "        if count%30 == 0 :\n",
    "            frames.append(image)\n",
    "#              cv2.imwrite(pathOut + 'frame%d.jpg'%count,image)\n",
    "        count+=1\n",
    "\n",
    "print(count, \" frames extracted\")\n",
    "frames = np.array(frames)\n",
    "print(\"data shape =\\t\", frames.shape)\n",
    "\n",
    "np.save(\"frames_data.npy\", ds_frames)\n",
    "print(\"downsampled frames stored to frames_data.npy\")"
   ]
  },
  {
   "cell_type": "markdown",
   "metadata": {},
   "source": [
    "### Downsampling"
   ]
  },
  {
   "cell_type": "code",
   "execution_count": null,
   "metadata": {},
   "outputs": [],
   "source": [
    "def rgb2gray(rgb):\n",
    "        return np.dot(rgb[...,:3], [0.299, 0.587, 0.114])\n",
    "\n",
    "from scipy import ndimage\n",
    "ds_frames = ndimage.interpolation.zoom(frames,(1., 0.2, 0.2, 1.))\n",
    "ds_frames = rgb2gray(ds_frames)\n",
    "print(\"downsampled shape =\\t\", ds_frames.shape)"
   ]
  },
  {
   "cell_type": "markdown",
   "metadata": {},
   "source": [
    "### Store the numpy array in file"
   ]
  },
  {
   "cell_type": "code",
   "execution_count": null,
   "metadata": {},
   "outputs": [],
   "source": [
    "# store it in npy file\n",
    "\n",
    "np.save(\"frames_data.npy\", ds_frames)\n",
    "print(\"downsampled frames stored to frames_data.npy\")"
   ]
  },
  {
   "cell_type": "markdown",
   "metadata": {},
   "source": [
    "# Working with Pickle"
   ]
  },
  {
   "cell_type": "code",
   "execution_count": null,
   "metadata": {},
   "outputs": [],
   "source": [
    "# convert numpy array to pickle\n",
    "pickle.dump(frames, open(\"sample.pkl\", \"wb\"))\n",
    "\n",
    "# open pickle file\n",
    "infile = open(\"sample.pkl\",'rb')\n",
    "new_dict = pickle.load(infile)\n",
    "infile.close()\n",
    "\n",
    "# print(new_dict)"
   ]
  },
  {
   "cell_type": "markdown",
   "metadata": {},
   "source": [
    "# Plot the array using matplotlib"
   ]
  },
  {
   "cell_type": "code",
   "execution_count": null,
   "metadata": {},
   "outputs": [],
   "source": [
    "# print(frames)\n",
    "plt.figure(figsize=(10,10))\n",
    "for i in range(25):\n",
    "    plt.subplot(5,5,i+1)\n",
    "    plt.xticks([])\n",
    "    plt.yticks([])\n",
    "    plt.imshow(frames[i])\n",
    "plt.show()"
   ]
  },
  {
   "cell_type": "markdown",
   "metadata": {},
   "source": [
    "# Merge multiple video files into one"
   ]
  },
  {
   "cell_type": "code",
   "execution_count": null,
   "metadata": {},
   "outputs": [],
   "source": [
    "listing = os.listdir(\"./Data/Shoplifting/distorted\")\n",
    "path = \".\\Data\\Shoplifting\\distorted\"\n",
    "\n",
    "count = 0\n",
    "video_count = 1\n",
    "\n",
    "for folder in listing:\n",
    "#     print(os.path.join(path, folder))\n",
    "    current_path = os.path.join(path, folder)\n",
    "    for video in tqdm(os.listdir(current_path)):\n",
    "        current_video_path = os.path.join(current_path, video)\n",
    "        print(current_path)\n",
    "        if(count==0):\n",
    "            clip = VideoFileClip(current_video_path)\n",
    "            final = clip\n",
    "        else:\n",
    "            clip = VideoFileClip(current_video_path)\n",
    "            final = concatenate_videoclips([final, clip])\n",
    "        count+=1\n",
    "    final.write_videofile(\"./Data/Shoplifting/video\"+str(video_count)+\".mp4\")\n",
    "    final = 0\n",
    "    count=0\n",
    "    video_count+=1"
   ]
  },
  {
   "cell_type": "markdown",
   "metadata": {},
   "source": [
    "### Convert video files extention\n",
    "\n",
    "documentation: https://zulko.github.io/moviepy/ref/ref.html"
   ]
  },
  {
   "cell_type": "code",
   "execution_count": null,
   "metadata": {},
   "outputs": [],
   "source": [
    "listing = os.listdir(\"./Data/Shoplifting/old/\")\n",
    "path = \".\\Data\\Shoplifting\\old\"\n",
    "\n",
    "count = 0\n",
    "\n",
    "for video in tqdm(listing):\n",
    "    current_path = os.path.join(path, video)\n",
    "    print(current_path)\n",
    "    clip = VideoFileClip(current_path) \n",
    "    clip.write_videofile(\"./Data/Shoplifting/video\"+str(count)+\".mp4\")\n",
    "    count+=1\n"
   ]
  },
  {
   "cell_type": "code",
   "execution_count": 28,
   "metadata": {},
   "outputs": [
    {
     "name": "stderr",
     "output_type": "stream",
     "text": [
      " 20%|████████████████▊                                                                   | 1/5 [00:00<00:00,  9.73it/s]"
     ]
    },
    {
     "name": "stdout",
     "output_type": "stream",
     "text": [
      "trip-01.jpg\n",
      "trip-02.jpg\n",
      "trip-03.jpg\n"
     ]
    },
    {
     "name": "stderr",
     "output_type": "stream",
     "text": [
      "100%|████████████████████████████████████████████████████████████████████████████████████| 5/5 [00:00<00:00, 11.14it/s]\n"
     ]
    },
    {
     "name": "stdout",
     "output_type": "stream",
     "text": [
      "trip-04.jpg\n",
      "trip-05.jpg\n"
     ]
    },
    {
     "name": "stderr",
     "output_type": "stream",
     "text": [
      "\r",
      "t:   0%|                                                                             | 0/360 [00:00<?, ?it/s, now=None]"
     ]
    },
    {
     "name": "stdout",
     "output_type": "stream",
     "text": [
      "Moviepy - Building video ../img-video/test.mp4.\n",
      "Moviepy - Writing video ../img-video/test.mp4\n",
      "\n"
     ]
    },
    {
     "name": "stderr",
     "output_type": "stream",
     "text": [
      "                                                                                                                       \r"
     ]
    },
    {
     "name": "stdout",
     "output_type": "stream",
     "text": [
      "Moviepy - Done !\n",
      "Moviepy - video ready ../img-video/test.mp4\n"
     ]
    }
   ],
   "source": [
    "import cv2\n",
    "import numpy as np\n",
    "import glob\n",
    "from moviepy.editor import *\n",
    "\n",
    "\n",
    "listing = os.listdir(\"../img-video/images/\")\n",
    "path = \"..\\img-video\\images\"\n",
    "\n",
    "img_array = []\n",
    "\n",
    "for filename in tqdm(listing): \n",
    "    print(filename)\n",
    "    current_path = os.path.join(path, filename)\n",
    "    img = cv2.imread(current_path)\n",
    "    img = cv2.cvtColor(img, cv2.COLOR_BGR2RGB)\n",
    "    img_array.append(img)\n",
    " \n",
    " \n",
    "#out = cv2.VideoWriter('project.avi', cv2.VideoWriter_fourcc(*'DIVX'), 15, (1800,1050))\n",
    "\n",
    "clips = [ImageClip(m).set_duration(3)\n",
    "         for m in img_array]\n",
    "\n",
    "concat_clip = concatenate_videoclips(clips, method=\"compose\")\n",
    "concat_clip.write_videofile(\"../img-video/test.mp4\", fps=24)\n",
    " \n",
    "#for i in range(len(img_array)):\n",
    "#    out.write(img_array[i])\n",
    "#out.release()"
   ]
  },
  {
   "cell_type": "code",
   "execution_count": null,
   "metadata": {},
   "outputs": [],
   "source": []
  }
 ],
 "metadata": {
  "kernelspec": {
   "display_name": "Python 3",
   "language": "python",
   "name": "python3"
  },
  "language_info": {
   "codemirror_mode": {
    "name": "ipython",
    "version": 3
   },
   "file_extension": ".py",
   "mimetype": "text/x-python",
   "name": "python",
   "nbconvert_exporter": "python",
   "pygments_lexer": "ipython3",
   "version": "3.7.3"
  }
 },
 "nbformat": 4,
 "nbformat_minor": 4
}
